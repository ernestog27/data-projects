{
 "cells": [
  {
   "cell_type": "markdown",
   "id": "c0a22c81-8c27-4886-8e84-7ba079feeb16",
   "metadata": {},
   "source": [
    "# Predictive Modeling on a Synthetic Dataset \n",
    "\n",
    "## Introduction\n",
    "The goal is to build a predictive model using the data provided in the training dataset to predict the target variable from the test dataset. \n",
    "\n",
    "### Problem Statement\n",
    "The purpose of this test is to test one's ability to write software to collect, normalize, store, analyze and visualize data.\n",
    "\n",
    "### Success Metrics\n",
    "The accuracy of each model will be measured using Mean Squared Error (MSE) "
   ]
  },
  {
   "cell_type": "markdown",
   "id": "df3ef0d6-64fd-4051-b70e-0471ed81964f",
   "metadata": {},
   "source": [
    "## Exploratory Data Analysis"
   ]
  },
  {
   "cell_type": "code",
   "execution_count": 3,
   "id": "726fbc56-db7d-4058-8b7e-f86cd44f0750",
   "metadata": {},
   "outputs": [],
   "source": [
    "# Importing necessary libraries\n",
    "import pandas as pd\n",
    "import numpy as np\n",
    "import matplotlib.pyplot as plt\n",
    "import seaborn as sns\n",
    "import random\n",
    "import sweetviz as sv\n",
    "\n",
    "from sklearn.linear_model import LinearRegression\n",
    "from sklearn.ensemble import RandomForestRegressor\n",
    "from sklearn.linear_model import Lasso, Ridge\n",
    "from sklearn.preprocessing import StandardScaler\n",
    "from sklearn.model_selection import train_test_split\n",
    "from sklearn.preprocessing import LabelEncoder\n",
    "from sklearn.metrics import mean_squared_error\n",
    "from sklearn.preprocessing import StandardScaler\n",
    "\n",
    "# Setting random seed for reproducibility\n",
    "random.seed(42)"
   ]
  },
  {
   "cell_type": "code",
   "execution_count": 4,
   "id": "4476fa47-148e-4d8f-8201-69a72a31abe6",
   "metadata": {},
   "outputs": [
    {
     "data": {
      "text/html": [
       "<div>\n",
       "<style scoped>\n",
       "    .dataframe tbody tr th:only-of-type {\n",
       "        vertical-align: middle;\n",
       "    }\n",
       "\n",
       "    .dataframe tbody tr th {\n",
       "        vertical-align: top;\n",
       "    }\n",
       "\n",
       "    .dataframe thead th {\n",
       "        text-align: right;\n",
       "    }\n",
       "</style>\n",
       "<table border=\"1\" class=\"dataframe\">\n",
       "  <thead>\n",
       "    <tr style=\"text-align: right;\">\n",
       "      <th></th>\n",
       "      <th>target</th>\n",
       "      <th>f_0</th>\n",
       "      <th>f_1</th>\n",
       "      <th>f_2</th>\n",
       "      <th>f_3</th>\n",
       "      <th>f_4</th>\n",
       "      <th>f_5</th>\n",
       "      <th>f_6</th>\n",
       "      <th>f_7</th>\n",
       "      <th>f_8</th>\n",
       "      <th>...</th>\n",
       "      <th>f_244</th>\n",
       "      <th>f_245</th>\n",
       "      <th>f_246</th>\n",
       "      <th>f_247</th>\n",
       "      <th>f_248</th>\n",
       "      <th>f_249</th>\n",
       "      <th>f_250</th>\n",
       "      <th>f_251</th>\n",
       "      <th>f_252</th>\n",
       "      <th>f_253</th>\n",
       "    </tr>\n",
       "  </thead>\n",
       "  <tbody>\n",
       "    <tr>\n",
       "      <th>0</th>\n",
       "      <td>3.066056</td>\n",
       "      <td>-0.653</td>\n",
       "      <td>0.255</td>\n",
       "      <td>-0.615</td>\n",
       "      <td>-1.833</td>\n",
       "      <td>-0.736</td>\n",
       "      <td>NaN</td>\n",
       "      <td>1.115</td>\n",
       "      <td>-0.171</td>\n",
       "      <td>-0.351</td>\n",
       "      <td>...</td>\n",
       "      <td>-1.607</td>\n",
       "      <td>-1.400</td>\n",
       "      <td>-0.920</td>\n",
       "      <td>-0.198</td>\n",
       "      <td>-0.945</td>\n",
       "      <td>-0.573</td>\n",
       "      <td>0.170</td>\n",
       "      <td>-0.418</td>\n",
       "      <td>-1.244</td>\n",
       "      <td>-0.503</td>\n",
       "    </tr>\n",
       "    <tr>\n",
       "      <th>1</th>\n",
       "      <td>-1.910473</td>\n",
       "      <td>1.179</td>\n",
       "      <td>-0.093</td>\n",
       "      <td>-0.556</td>\n",
       "      <td>0.811</td>\n",
       "      <td>-0.468</td>\n",
       "      <td>-0.005</td>\n",
       "      <td>-0.116</td>\n",
       "      <td>-1.243</td>\n",
       "      <td>1.985</td>\n",
       "      <td>...</td>\n",
       "      <td>1.282</td>\n",
       "      <td>0.032</td>\n",
       "      <td>-0.061</td>\n",
       "      <td>NaN</td>\n",
       "      <td>-0.061</td>\n",
       "      <td>-0.302</td>\n",
       "      <td>1.281</td>\n",
       "      <td>-0.850</td>\n",
       "      <td>0.821</td>\n",
       "      <td>-0.260</td>\n",
       "    </tr>\n",
       "    <tr>\n",
       "      <th>2</th>\n",
       "      <td>7.830711</td>\n",
       "      <td>0.181</td>\n",
       "      <td>-0.778</td>\n",
       "      <td>-0.919</td>\n",
       "      <td>0.113</td>\n",
       "      <td>0.887</td>\n",
       "      <td>-0.762</td>\n",
       "      <td>1.872</td>\n",
       "      <td>-1.709</td>\n",
       "      <td>0.135</td>\n",
       "      <td>...</td>\n",
       "      <td>-0.237</td>\n",
       "      <td>-0.660</td>\n",
       "      <td>1.073</td>\n",
       "      <td>-0.193</td>\n",
       "      <td>0.570</td>\n",
       "      <td>-0.267</td>\n",
       "      <td>1.435</td>\n",
       "      <td>1.332</td>\n",
       "      <td>-1.147</td>\n",
       "      <td>2.580</td>\n",
       "    </tr>\n",
       "    <tr>\n",
       "      <th>3</th>\n",
       "      <td>-2.180862</td>\n",
       "      <td>0.745</td>\n",
       "      <td>-0.245</td>\n",
       "      <td>-1.343</td>\n",
       "      <td>1.163</td>\n",
       "      <td>-0.169</td>\n",
       "      <td>-0.151</td>\n",
       "      <td>-1.100</td>\n",
       "      <td>0.225</td>\n",
       "      <td>1.223</td>\n",
       "      <td>...</td>\n",
       "      <td>0.709</td>\n",
       "      <td>-0.203</td>\n",
       "      <td>-0.136</td>\n",
       "      <td>-0.571</td>\n",
       "      <td>1.682</td>\n",
       "      <td>0.243</td>\n",
       "      <td>-0.381</td>\n",
       "      <td>0.613</td>\n",
       "      <td>1.033</td>\n",
       "      <td>0.400</td>\n",
       "    </tr>\n",
       "    <tr>\n",
       "      <th>4</th>\n",
       "      <td>5.462784</td>\n",
       "      <td>1.217</td>\n",
       "      <td>-1.324</td>\n",
       "      <td>-0.958</td>\n",
       "      <td>0.448</td>\n",
       "      <td>-2.873</td>\n",
       "      <td>-0.856</td>\n",
       "      <td>0.603</td>\n",
       "      <td>0.763</td>\n",
       "      <td>0.020</td>\n",
       "      <td>...</td>\n",
       "      <td>0.892</td>\n",
       "      <td>-0.433</td>\n",
       "      <td>-0.877</td>\n",
       "      <td>0.289</td>\n",
       "      <td>0.654</td>\n",
       "      <td>1.230</td>\n",
       "      <td>0.457</td>\n",
       "      <td>-0.754</td>\n",
       "      <td>-0.025</td>\n",
       "      <td>-0.931</td>\n",
       "    </tr>\n",
       "  </tbody>\n",
       "</table>\n",
       "<p>5 rows × 255 columns</p>\n",
       "</div>"
      ],
      "text/plain": [
       "     target    f_0    f_1    f_2    f_3    f_4    f_5    f_6    f_7    f_8  \\\n",
       "0  3.066056 -0.653  0.255 -0.615 -1.833 -0.736    NaN  1.115 -0.171 -0.351   \n",
       "1 -1.910473  1.179 -0.093 -0.556  0.811 -0.468 -0.005 -0.116 -1.243  1.985   \n",
       "2  7.830711  0.181 -0.778 -0.919  0.113  0.887 -0.762  1.872 -1.709  0.135   \n",
       "3 -2.180862  0.745 -0.245 -1.343  1.163 -0.169 -0.151 -1.100  0.225  1.223   \n",
       "4  5.462784  1.217 -1.324 -0.958  0.448 -2.873 -0.856  0.603  0.763  0.020   \n",
       "\n",
       "   ...  f_244  f_245  f_246  f_247  f_248  f_249  f_250  f_251  f_252  f_253  \n",
       "0  ... -1.607 -1.400 -0.920 -0.198 -0.945 -0.573  0.170 -0.418 -1.244 -0.503  \n",
       "1  ...  1.282  0.032 -0.061    NaN -0.061 -0.302  1.281 -0.850  0.821 -0.260  \n",
       "2  ... -0.237 -0.660  1.073 -0.193  0.570 -0.267  1.435  1.332 -1.147  2.580  \n",
       "3  ...  0.709 -0.203 -0.136 -0.571  1.682  0.243 -0.381  0.613  1.033  0.400  \n",
       "4  ...  0.892 -0.433 -0.877  0.289  0.654  1.230  0.457 -0.754 -0.025 -0.931  \n",
       "\n",
       "[5 rows x 255 columns]"
      ]
     },
     "execution_count": 4,
     "metadata": {},
     "output_type": "execute_result"
    }
   ],
   "source": [
    "# Reading CSV files\n",
    "train_data = pd.read_csv(r'/Users/ernesto/Library/CloudStorage/OneDrive-Personal/_Data_Projects/Projects/Model Building on a Synthetic Dataset/datasets/codetest_train.txt', delimiter = '\\t')\n",
    "test_data = pd.read_csv(r'/Users/ernesto/Library/CloudStorage/OneDrive-Personal/_Data_Projects/Projects/Model Building on a Synthetic Dataset/datasets/codetest_test.txt', delimiter = '\\t')\n",
    "\n",
    "# Prevewing \n",
    "train_data.head()\n"
   ]
  },
  {
   "cell_type": "markdown",
   "id": "b7530b33-605c-4ead-b950-58a1f5b745ee",
   "metadata": {},
   "source": [
    "### Data Overview"
   ]
  },
  {
   "cell_type": "code",
   "execution_count": 6,
   "id": "18a1514a-1b5d-41c9-a876-a623e7198ba7",
   "metadata": {
    "scrolled": true
   },
   "outputs": [
    {
     "data": {
      "text/html": [
       "<div>\n",
       "<style scoped>\n",
       "    .dataframe tbody tr th:only-of-type {\n",
       "        vertical-align: middle;\n",
       "    }\n",
       "\n",
       "    .dataframe tbody tr th {\n",
       "        vertical-align: top;\n",
       "    }\n",
       "\n",
       "    .dataframe thead th {\n",
       "        text-align: right;\n",
       "    }\n",
       "</style>\n",
       "<table border=\"1\" class=\"dataframe\">\n",
       "  <thead>\n",
       "    <tr style=\"text-align: right;\">\n",
       "      <th></th>\n",
       "      <th>target</th>\n",
       "      <th>f_0</th>\n",
       "      <th>f_1</th>\n",
       "      <th>f_2</th>\n",
       "      <th>f_3</th>\n",
       "      <th>f_4</th>\n",
       "      <th>f_5</th>\n",
       "      <th>f_6</th>\n",
       "      <th>f_7</th>\n",
       "      <th>f_8</th>\n",
       "      <th>...</th>\n",
       "      <th>f_244</th>\n",
       "      <th>f_245</th>\n",
       "      <th>f_246</th>\n",
       "      <th>f_247</th>\n",
       "      <th>f_248</th>\n",
       "      <th>f_249</th>\n",
       "      <th>f_250</th>\n",
       "      <th>f_251</th>\n",
       "      <th>f_252</th>\n",
       "      <th>f_253</th>\n",
       "    </tr>\n",
       "  </thead>\n",
       "  <tbody>\n",
       "    <tr>\n",
       "      <th>count</th>\n",
       "      <td>5000.000000</td>\n",
       "      <td>4903.000000</td>\n",
       "      <td>4928.000000</td>\n",
       "      <td>4908.000000</td>\n",
       "      <td>4910.000000</td>\n",
       "      <td>4907.000000</td>\n",
       "      <td>4912.000000</td>\n",
       "      <td>4897.000000</td>\n",
       "      <td>4904.000000</td>\n",
       "      <td>4893.000000</td>\n",
       "      <td>...</td>\n",
       "      <td>4910.000000</td>\n",
       "      <td>4883.000000</td>\n",
       "      <td>4914.000000</td>\n",
       "      <td>4894.000000</td>\n",
       "      <td>4902.000000</td>\n",
       "      <td>4886.000000</td>\n",
       "      <td>4900.000000</td>\n",
       "      <td>4921.000000</td>\n",
       "      <td>4904.000000</td>\n",
       "      <td>4904.000000</td>\n",
       "    </tr>\n",
       "    <tr>\n",
       "      <th>mean</th>\n",
       "      <td>1.143878</td>\n",
       "      <td>-0.000433</td>\n",
       "      <td>0.002564</td>\n",
       "      <td>0.028877</td>\n",
       "      <td>-0.005437</td>\n",
       "      <td>-0.006759</td>\n",
       "      <td>0.005569</td>\n",
       "      <td>0.001536</td>\n",
       "      <td>-0.001019</td>\n",
       "      <td>0.009744</td>\n",
       "      <td>...</td>\n",
       "      <td>0.013529</td>\n",
       "      <td>0.004941</td>\n",
       "      <td>0.023261</td>\n",
       "      <td>-0.018447</td>\n",
       "      <td>-0.009842</td>\n",
       "      <td>0.016958</td>\n",
       "      <td>-0.004947</td>\n",
       "      <td>0.016868</td>\n",
       "      <td>-0.001351</td>\n",
       "      <td>0.010334</td>\n",
       "    </tr>\n",
       "    <tr>\n",
       "      <th>std</th>\n",
       "      <td>5.259896</td>\n",
       "      <td>0.999739</td>\n",
       "      <td>0.997930</td>\n",
       "      <td>1.019337</td>\n",
       "      <td>0.990351</td>\n",
       "      <td>1.006293</td>\n",
       "      <td>0.995799</td>\n",
       "      <td>1.004624</td>\n",
       "      <td>0.997356</td>\n",
       "      <td>0.988310</td>\n",
       "      <td>...</td>\n",
       "      <td>1.001453</td>\n",
       "      <td>0.997330</td>\n",
       "      <td>0.996458</td>\n",
       "      <td>1.005000</td>\n",
       "      <td>0.989228</td>\n",
       "      <td>1.011331</td>\n",
       "      <td>0.991577</td>\n",
       "      <td>1.001358</td>\n",
       "      <td>1.003411</td>\n",
       "      <td>1.006896</td>\n",
       "    </tr>\n",
       "    <tr>\n",
       "      <th>min</th>\n",
       "      <td>-26.705570</td>\n",
       "      <td>-3.941000</td>\n",
       "      <td>-3.847000</td>\n",
       "      <td>-3.818000</td>\n",
       "      <td>-3.434000</td>\n",
       "      <td>-3.400000</td>\n",
       "      <td>-4.051000</td>\n",
       "      <td>-3.179000</td>\n",
       "      <td>-3.890000</td>\n",
       "      <td>-3.857000</td>\n",
       "      <td>...</td>\n",
       "      <td>-3.585000</td>\n",
       "      <td>-3.494000</td>\n",
       "      <td>-3.485000</td>\n",
       "      <td>-4.012000</td>\n",
       "      <td>-3.252000</td>\n",
       "      <td>-3.821000</td>\n",
       "      <td>-3.376000</td>\n",
       "      <td>-3.373000</td>\n",
       "      <td>-3.950000</td>\n",
       "      <td>-3.728000</td>\n",
       "    </tr>\n",
       "    <tr>\n",
       "      <th>25%</th>\n",
       "      <td>-2.034383</td>\n",
       "      <td>-0.673000</td>\n",
       "      <td>-0.685000</td>\n",
       "      <td>-0.651000</td>\n",
       "      <td>-0.655000</td>\n",
       "      <td>-0.685500</td>\n",
       "      <td>-0.660000</td>\n",
       "      <td>-0.672000</td>\n",
       "      <td>-0.679000</td>\n",
       "      <td>-0.662000</td>\n",
       "      <td>...</td>\n",
       "      <td>-0.665750</td>\n",
       "      <td>-0.676000</td>\n",
       "      <td>-0.661750</td>\n",
       "      <td>-0.692000</td>\n",
       "      <td>-0.663000</td>\n",
       "      <td>-0.647750</td>\n",
       "      <td>-0.679500</td>\n",
       "      <td>-0.647000</td>\n",
       "      <td>-0.695000</td>\n",
       "      <td>-0.677000</td>\n",
       "    </tr>\n",
       "    <tr>\n",
       "      <th>50%</th>\n",
       "      <td>1.166835</td>\n",
       "      <td>-0.011000</td>\n",
       "      <td>-0.003000</td>\n",
       "      <td>0.047500</td>\n",
       "      <td>0.003500</td>\n",
       "      <td>-0.007000</td>\n",
       "      <td>-0.008000</td>\n",
       "      <td>-0.003000</td>\n",
       "      <td>-0.021500</td>\n",
       "      <td>0.017000</td>\n",
       "      <td>...</td>\n",
       "      <td>0.026000</td>\n",
       "      <td>-0.028000</td>\n",
       "      <td>0.027000</td>\n",
       "      <td>-0.035000</td>\n",
       "      <td>-0.010500</td>\n",
       "      <td>0.002500</td>\n",
       "      <td>0.010000</td>\n",
       "      <td>0.020000</td>\n",
       "      <td>0.002500</td>\n",
       "      <td>0.015000</td>\n",
       "    </tr>\n",
       "    <tr>\n",
       "      <th>75%</th>\n",
       "      <td>4.439549</td>\n",
       "      <td>0.677000</td>\n",
       "      <td>0.674500</td>\n",
       "      <td>0.719000</td>\n",
       "      <td>0.668000</td>\n",
       "      <td>0.654000</td>\n",
       "      <td>0.649000</td>\n",
       "      <td>0.679000</td>\n",
       "      <td>0.670250</td>\n",
       "      <td>0.698000</td>\n",
       "      <td>...</td>\n",
       "      <td>0.671750</td>\n",
       "      <td>0.670000</td>\n",
       "      <td>0.702500</td>\n",
       "      <td>0.655000</td>\n",
       "      <td>0.651000</td>\n",
       "      <td>0.709750</td>\n",
       "      <td>0.660250</td>\n",
       "      <td>0.692000</td>\n",
       "      <td>0.672250</td>\n",
       "      <td>0.705250</td>\n",
       "    </tr>\n",
       "    <tr>\n",
       "      <th>max</th>\n",
       "      <td>26.347818</td>\n",
       "      <td>3.831000</td>\n",
       "      <td>3.996000</td>\n",
       "      <td>3.199000</td>\n",
       "      <td>4.962000</td>\n",
       "      <td>3.106000</td>\n",
       "      <td>4.296000</td>\n",
       "      <td>4.166000</td>\n",
       "      <td>3.798000</td>\n",
       "      <td>4.195000</td>\n",
       "      <td>...</td>\n",
       "      <td>3.365000</td>\n",
       "      <td>3.456000</td>\n",
       "      <td>3.881000</td>\n",
       "      <td>3.690000</td>\n",
       "      <td>3.629000</td>\n",
       "      <td>4.144000</td>\n",
       "      <td>3.873000</td>\n",
       "      <td>3.187000</td>\n",
       "      <td>3.724000</td>\n",
       "      <td>3.956000</td>\n",
       "    </tr>\n",
       "  </tbody>\n",
       "</table>\n",
       "<p>8 rows × 251 columns</p>\n",
       "</div>"
      ],
      "text/plain": [
       "            target          f_0          f_1          f_2          f_3  \\\n",
       "count  5000.000000  4903.000000  4928.000000  4908.000000  4910.000000   \n",
       "mean      1.143878    -0.000433     0.002564     0.028877    -0.005437   \n",
       "std       5.259896     0.999739     0.997930     1.019337     0.990351   \n",
       "min     -26.705570    -3.941000    -3.847000    -3.818000    -3.434000   \n",
       "25%      -2.034383    -0.673000    -0.685000    -0.651000    -0.655000   \n",
       "50%       1.166835    -0.011000    -0.003000     0.047500     0.003500   \n",
       "75%       4.439549     0.677000     0.674500     0.719000     0.668000   \n",
       "max      26.347818     3.831000     3.996000     3.199000     4.962000   \n",
       "\n",
       "               f_4          f_5          f_6          f_7          f_8  ...  \\\n",
       "count  4907.000000  4912.000000  4897.000000  4904.000000  4893.000000  ...   \n",
       "mean     -0.006759     0.005569     0.001536    -0.001019     0.009744  ...   \n",
       "std       1.006293     0.995799     1.004624     0.997356     0.988310  ...   \n",
       "min      -3.400000    -4.051000    -3.179000    -3.890000    -3.857000  ...   \n",
       "25%      -0.685500    -0.660000    -0.672000    -0.679000    -0.662000  ...   \n",
       "50%      -0.007000    -0.008000    -0.003000    -0.021500     0.017000  ...   \n",
       "75%       0.654000     0.649000     0.679000     0.670250     0.698000  ...   \n",
       "max       3.106000     4.296000     4.166000     3.798000     4.195000  ...   \n",
       "\n",
       "             f_244        f_245        f_246        f_247        f_248  \\\n",
       "count  4910.000000  4883.000000  4914.000000  4894.000000  4902.000000   \n",
       "mean      0.013529     0.004941     0.023261    -0.018447    -0.009842   \n",
       "std       1.001453     0.997330     0.996458     1.005000     0.989228   \n",
       "min      -3.585000    -3.494000    -3.485000    -4.012000    -3.252000   \n",
       "25%      -0.665750    -0.676000    -0.661750    -0.692000    -0.663000   \n",
       "50%       0.026000    -0.028000     0.027000    -0.035000    -0.010500   \n",
       "75%       0.671750     0.670000     0.702500     0.655000     0.651000   \n",
       "max       3.365000     3.456000     3.881000     3.690000     3.629000   \n",
       "\n",
       "             f_249        f_250        f_251        f_252        f_253  \n",
       "count  4886.000000  4900.000000  4921.000000  4904.000000  4904.000000  \n",
       "mean      0.016958    -0.004947     0.016868    -0.001351     0.010334  \n",
       "std       1.011331     0.991577     1.001358     1.003411     1.006896  \n",
       "min      -3.821000    -3.376000    -3.373000    -3.950000    -3.728000  \n",
       "25%      -0.647750    -0.679500    -0.647000    -0.695000    -0.677000  \n",
       "50%       0.002500     0.010000     0.020000     0.002500     0.015000  \n",
       "75%       0.709750     0.660250     0.692000     0.672250     0.705250  \n",
       "max       4.144000     3.873000     3.187000     3.724000     3.956000  \n",
       "\n",
       "[8 rows x 251 columns]"
      ]
     },
     "execution_count": 6,
     "metadata": {},
     "output_type": "execute_result"
    }
   ],
   "source": [
    "# Summary Statistics\n",
    "train_data.describe()"
   ]
  },
  {
   "cell_type": "code",
   "execution_count": 7,
   "id": "7c092f49-1506-4d9d-8b87-547c6c57b5c0",
   "metadata": {},
   "outputs": [
    {
     "data": {
      "image/png": "[encoded data removed]",
      "text/plain": [
       "<Figure size 1000x600 with 1 Axes>"
      ]
     },
     "metadata": {},
     "output_type": "display_data"
    }
   ],
   "source": [
    "# Visualizing Target Data\n",
    "plt.figure(figsize = (10,6))\n",
    "sns.histplot(train_data['target'], bins = 50, kde = True)\n",
    "plt.title('Distribution of Target Variable')\n",
    "plt.xlabel('Target')\n",
    "plt.ylabel('Frequency')\n",
    "plt.show()\n"
   ]
  },
  {
   "cell_type": "markdown",
   "id": "e5d4f02a-c851-4612-aca7-b7c362ab076a",
   "metadata": {},
   "source": [
    "### Automating an EDA report "
   ]
  },
  {
   "cell_type": "code",
   "execution_count": 9,
   "id": "dda0ea6b-0c5d-49bb-8dcf-860a914e8697",
   "metadata": {},
   "outputs": [],
   "source": [
    "report = sv.compare([train_data, \"Training\"],[test_data, \"Testing\"], pairwise_analysis = 'off')\n",
    "report.show_html('compare_report.html')"
   ]
  },
  {
   "cell_type": "markdown",
   "id": "3d65333c-53d4-4188-8fcc-70b6b2b29dc7",
   "metadata": {},
   "source": [
    "## Data Preparation"
   ]
  },
  {
   "cell_type": "code",
   "execution_count": 12,
   "id": "fefa6d6c-2c94-486c-beee-3419212fdda0",
   "metadata": {},
   "outputs": [
    {
     "name": "stdout",
     "output_type": "stream",
     "text": [
      "Columns with non-numeric data types: ['f_61', 'f_121', 'f_215', 'f_237']\n"
     ]
    }
   ],
   "source": [
    "# Checking for non numeric columns\n",
    "\n",
    "non_numeric_cols = [col for col, dtype in train_data.dtypes.items() if dtype not in ['float64', 'int64']]\n",
    "\n",
    "if non_numeric_cols:\n",
    "    print(f'Columns with non-numeric data types: {non_numeric_cols}')\n",
    "else:\n",
    "    print ('All columns have float or integer data types.')"
   ]
  },
  {
   "cell_type": "code",
   "execution_count": 13,
   "id": "8a5898be-1f1d-4d7e-9b30-6e673019059b",
   "metadata": {},
   "outputs": [
    {
     "data": {
      "text/plain": [
       "(0    b\n",
       " 1    a\n",
       " 2    b\n",
       " 3    a\n",
       " 4    b\n",
       " Name: f_61, dtype: object,\n",
       " 0    D\n",
       " 1    A\n",
       " 2    B\n",
       " 3    C\n",
       " 4    E\n",
       " Name: f_121, dtype: object,\n",
       " 0       red\n",
       " 1      blue\n",
       " 2    orange\n",
       " 3      blue\n",
       " 4    orange\n",
       " Name: f_215, dtype: object,\n",
       " 0    Canada\n",
       " 1    Canada\n",
       " 2    Canada\n",
       " 3       USA\n",
       " 4    Canada\n",
       " Name: f_237, dtype: object)"
      ]
     },
     "execution_count": 13,
     "metadata": {},
     "output_type": "execute_result"
    }
   ],
   "source": [
    "train_data['f_61'].head(), train_data['f_121'].head(), train_data['f_215'].head(), train_data['f_237'].head()"
   ]
  },
  {
   "cell_type": "markdown",
   "id": "92fba48e-f87c-40ef-8132-6c6efc047206",
   "metadata": {},
   "source": [
    "### Encoding"
   ]
  },
  {
   "cell_type": "code",
   "execution_count": 15,
   "id": "f699efa8-c5a5-41ca-b1ed-9dafdca85f78",
   "metadata": {},
   "outputs": [
    {
     "data": {
      "text/plain": [
       "f_61     int64\n",
       "f_121    int64\n",
       "f_215    int64\n",
       "f_237    int64\n",
       "dtype: object"
      ]
     },
     "execution_count": 15,
     "metadata": {},
     "output_type": "execute_result"
    }
   ],
   "source": [
    "non_numeric_features = train_data.dtypes[train_data.dtypes == 'object'].index\n",
    "# Encoding the non-numeric features\n",
    "encoder = LabelEncoder()\n",
    "\n",
    "for feature in non_numeric_features:\n",
    "    train_data[feature] = encoder.fit_transform(train_data[feature].astype(str))\n",
    "\n",
    "# Confirming that all features are now numeric\n",
    "\n",
    "train_data.dtypes[train_data.dtypes != 'float64']"
   ]
  },
  {
   "cell_type": "code",
   "execution_count": 16,
   "id": "4fbb4765-27a6-4f27-9788-0bd0c304cc4a",
   "metadata": {},
   "outputs": [
    {
     "data": {
      "text/plain": [
       "(0    1\n",
       " 1    0\n",
       " 2    1\n",
       " 3    0\n",
       " 4    1\n",
       " Name: f_61, dtype: int64,\n",
       " 0    3\n",
       " 1    0\n",
       " 2    1\n",
       " 3    2\n",
       " 4    4\n",
       " Name: f_121, dtype: int64,\n",
       " 0    3\n",
       " 1    0\n",
       " 2    2\n",
       " 3    0\n",
       " 4    2\n",
       " Name: f_215, dtype: int64,\n",
       " 0    0\n",
       " 1    0\n",
       " 2    0\n",
       " 3    2\n",
       " 4    0\n",
       " Name: f_237, dtype: int64)"
      ]
     },
     "execution_count": 16,
     "metadata": {},
     "output_type": "execute_result"
    }
   ],
   "source": [
    "train_data['f_61'].head(), train_data['f_121'].head(), train_data['f_215'].head(), train_data['f_237'].head()"
   ]
  },
  {
   "cell_type": "code",
   "execution_count": 17,
   "id": "ac4fc230-bb50-4fa9-879f-c34f8a6e0139",
   "metadata": {
    "scrolled": true
   },
   "outputs": [
    {
     "name": "stdout",
     "output_type": "stream",
     "text": [
      "Columns with non-numeric data types: ['f_61', 'f_121', 'f_215', 'f_237']\n"
     ]
    }
   ],
   "source": [
    "non_numeric_cols = [col for col, dtype in test_data.dtypes.items() if dtype not in ['float64', 'int64']]\n",
    "\n",
    "if non_numeric_cols:\n",
    "    print(f\"Columns with non-numeric data types: {non_numeric_cols}\")\n",
    "else:\n",
    "    print(\"All columns have float or integer data types.\")"
   ]
  },
  {
   "cell_type": "code",
   "execution_count": 18,
   "id": "f882252c-4129-47e4-8b58-264eb8a77ab9",
   "metadata": {},
   "outputs": [
    {
     "data": {
      "text/plain": [
       "f_61     int64\n",
       "f_121    int64\n",
       "f_215    int64\n",
       "f_237    int64\n",
       "dtype: object"
      ]
     },
     "execution_count": 18,
     "metadata": {},
     "output_type": "execute_result"
    }
   ],
   "source": [
    "non_numeric_features = test_data.dtypes[test_data.dtypes == 'object'].index\n",
    "\n",
    "# Encoding the non-numeric features\n",
    "econder = LabelEncoder()\n",
    "for feature in non_numeric_features:\n",
    "    test_data[feature] = encoder.fit_transform(test_data[feature].astype(str))\n",
    "\n",
    "# Confirming that all features are now numeric\n",
    "test_data.dtypes[train_data.dtypes != 'float64']\n"
   ]
  },
  {
   "cell_type": "markdown",
   "id": "bc9b5379-808f-41e0-bb19-31716aebb8b9",
   "metadata": {},
   "source": [
    "### Missing Values"
   ]
  },
  {
   "cell_type": "code",
   "execution_count": 20,
   "id": "af1bdafa-a19b-449e-b156-77b2b3d8e3e6",
   "metadata": {},
   "outputs": [
    {
     "name": "stdout",
     "output_type": "stream",
     "text": [
      "Missing values in train data:\n",
      "f_0       97\n",
      "f_1       72\n",
      "f_2       92\n",
      "f_3       90\n",
      "f_4       93\n",
      "        ... \n",
      "f_249    114\n",
      "f_250    100\n",
      "f_251     79\n",
      "f_252     96\n",
      "f_253     96\n",
      "Length: 250, dtype: int64\n",
      "\n",
      "Missing values in test_data:\n",
      "f_0      28\n",
      "f_1      17\n",
      "f_2      17\n",
      "f_3      18\n",
      "f_4      22\n",
      "         ..\n",
      "f_249    20\n",
      "f_250    19\n",
      "f_251    22\n",
      "f_252    21\n",
      "f_253    15\n",
      "Length: 250, dtype: int64\n"
     ]
    }
   ],
   "source": [
    "# Checking for missing values in train_data\n",
    "\n",
    "missing_train  = train_data.isna().sum()\n",
    "print('Missing values in train data:')\n",
    "print(missing_train[missing_train > 0])\n",
    "\n",
    "# Check for missing values in test_data\n",
    "missing_test = test_data.isna().sum()\n",
    "print('\\nMissing values in test_data:')\n",
    "print(missing_test[missing_test > 0])"
   ]
  },
  {
   "cell_type": "code",
   "execution_count": 21,
   "id": "06de31df-68e6-4298-ba29-3b7bdc812966",
   "metadata": {},
   "outputs": [],
   "source": [
    "# Filling missing values in train_data with the median\n",
    "\n",
    "for column in  train_data.columns:\n",
    "    median_value = train_data[column].median()\n",
    "    train_data.fillna({column: median_value}, inplace = True)\n",
    "# Filling missing values in test_data with the median\n",
    "\n",
    "for column in test_data.columns:\n",
    "    median_value = test_data[column].median()\n",
    "    test_data.fillna({column: median_value}, inplace = True)"
   ]
  },
  {
   "cell_type": "code",
   "execution_count": 22,
   "id": "ef2937b5-0d3d-4977-ba06-6b7c51c47dc6",
   "metadata": {},
   "outputs": [
    {
     "name": "stdout",
     "output_type": "stream",
     "text": [
      "Missing values in train data:\n",
      "Series([], dtype: int64)\n",
      "\n",
      "Missing values in test_data:\n",
      "Series([], dtype: int64)\n"
     ]
    }
   ],
   "source": [
    "# Checking for missing values in train_data\n",
    "\n",
    "missing_train  = train_data.isna().sum()\n",
    "print('Missing values in train data:')\n",
    "print(missing_train[missing_train > 0])\n",
    "\n",
    "# Check for missing values in test_data\n",
    "missing_test = test_data.isna().sum()\n",
    "print('\\nMissing values in test_data:')\n",
    "print(missing_test[missing_test > 0])"
   ]
  },
  {
   "cell_type": "markdown",
   "id": "656f49e6-41c5-49b2-9060-05db5be50254",
   "metadata": {},
   "source": [
    "### Train-Test Split"
   ]
  },
  {
   "cell_type": "code",
   "execution_count": 24,
   "id": "f37632d1-96fb-4792-b396-b2600d8a3da7",
   "metadata": {},
   "outputs": [],
   "source": [
    "# Separating features and target variable from training data\n",
    "X = train_data.drop('target', axis = 1)\n",
    "y = train_data['target']\n",
    "\n",
    "# Splitting data into training a validation tests \n",
    "X_train, X_val, y_train, y_val = train_test_split(X, y, test_size = 0.2, random_state = 42)\n",
    "\n",
    "# Normalizing features\n",
    "scaler = StandardScaler()\n",
    "X_train_scaled = scaler.fit_transform(X_train)\n",
    "X_val_scaled = scaler.transform(X_val)\n",
    "X_test_scaled = scaler.transform(test_data)"
   ]
  },
  {
   "cell_type": "markdown",
   "id": "53c32221-8f2a-4a0b-8def-c2ab0eab248f",
   "metadata": {},
   "source": [
    "## Modeling"
   ]
  },
  {
   "cell_type": "code",
   "execution_count": 26,
   "id": "ff5ea579-e6f0-4ca4-885a-f588a46194ef",
   "metadata": {},
   "outputs": [
    {
     "data": {
      "text/plain": [
       "14.010723344651987"
      ]
     },
     "execution_count": 26,
     "metadata": {},
     "output_type": "execute_result"
    }
   ],
   "source": [
    "# Initializing model\n",
    "lr_model = LinearRegression()\n",
    "\n",
    "# Fiting the model to the training data\n",
    "lr_model.fit(X_train_scaled, y_train)\n",
    "\n",
    "# Making predictions on the validation set\n",
    "y_val_pred = lr_model.predict(X_val_scaled)\n",
    "\n",
    "# Calculating the MSE (mean squared error)\n",
    "\n",
    "mse = mean_squared_error(y_val, y_val_pred)\n",
    "mse"
   ]
  },
  {
   "cell_type": "markdown",
   "id": "4c974133-1eab-4023-b659-b42125e4b7ee",
   "metadata": {},
   "source": [
    "### Random Forest Model"
   ]
  },
  {
   "cell_type": "code",
   "execution_count": 28,
   "id": "2bc4b8bb-c29b-4d9a-bd1c-0132362f6127",
   "metadata": {},
   "outputs": [
    {
     "data": {
      "text/plain": [
       "12.119815401433524"
      ]
     },
     "execution_count": 28,
     "metadata": {},
     "output_type": "execute_result"
    }
   ],
   "source": [
    "# Creating a Random Forest model\n",
    "rf_model = RandomForestRegressor(random_state = 42)\n",
    "\n",
    "# Fitting the model to the training data\n",
    "rf_model.fit(X_train_scaled, y_train)\n",
    "\n",
    "# Making predictions on the validation set\n",
    "y_val_pred_rf = rf_model.predict(X_val_scaled)\n",
    "\n",
    "# Calculating the MSE for Random Forest\n",
    "mse_rf = mean_squared_error(y_val, y_val_pred_rf)\n",
    "mse_rf\n"
   ]
  },
  {
   "cell_type": "markdown",
   "id": "4cf99bfe-6957-4826-a0aa-f4fb2d3ef105",
   "metadata": {},
   "source": [
    "### Lasso Model and Ridge Model"
   ]
  },
  {
   "cell_type": "code",
   "execution_count": 30,
   "id": "a3f27b48-ed45-4b71-9754-e6aa72198b5a",
   "metadata": {},
   "outputs": [
    {
     "data": {
      "text/plain": [
       "([14.010723344651987,\n",
       "  12.119815401433524,\n",
       "  18.0013870939956,\n",
       "  14.010561607998666],\n",
       " [3.743090079687101, 3.481352524728503, 4.242804154565186, 3.743068474927845])"
      ]
     },
     "execution_count": 30,
     "metadata": {},
     "output_type": "execute_result"
    }
   ],
   "source": [
    "# Creating the models\n",
    "lasso_model = Lasso(random_state = 42)\n",
    "ridge_model = Ridge(random_state = 42)\n",
    "\n",
    "# Fitting the models to the training data\n",
    "lasso_model.fit(X_train_scaled, y_train)\n",
    "ridge_model.fit(X_train_scaled, y_train)\n",
    "\n",
    "# Making predictions on the validation set\n",
    "y_val_pred_lasso = lasso_model.predict(X_val_scaled)\n",
    "y_val_pred_ridge = ridge_model.predict(X_val_scaled)\n",
    "\n",
    "# Calculating the MSE and RMSE for all models\n",
    "mse_lasso = mean_squared_error(y_val, y_val_pred_lasso)\n",
    "mse_ridge = mean_squared_error(y_val, y_val_pred_ridge)\n",
    "\n",
    "rmse_lr = np.sqrt(mse)\n",
    "rmse_rf = np.sqrt(mse_rf)\n",
    "rmse_lasso = np.sqrt(mse_lasso)\n",
    "rmse_ridge = np.sqrt(mse_ridge)\n",
    "\n",
    "mse_values_all = [mse, mse_rf, mse_lasso, mse_ridge]\n",
    "rmse_values_all = [rmse_lr, rmse_rf, rmse_lasso, rmse_ridge]\n",
    "\n",
    "mse_values_all, rmse_values_all"
   ]
  },
  {
   "cell_type": "markdown",
   "id": "5d4bdb39-a7e4-4a27-a122-de632b3766b3",
   "metadata": {},
   "source": [
    "### Model Selection"
   ]
  },
  {
   "cell_type": "code",
   "execution_count": 32,
   "id": "75b7b431-66d6-4f93-be48-00fca7c63b2d",
   "metadata": {},
   "outputs": [
    {
     "data": {
      "image/png": "[encoded data removed]",
      "text/plain": [
       "<Figure size 1500x600 with 2 Axes>"
      ]
     },
     "metadata": {},
     "output_type": "display_data"
    }
   ],
   "source": [
    "# Creating Visualizations for model selection\n",
    "# Color palatte\n",
    "\n",
    "color1 = 'blue'\n",
    "color2 = 'orange'\n",
    "\n",
    "models_all = ['Linear Regression', 'Random Forest', 'Lasso', 'Ridge']\n",
    "\n",
    "# Calculating R-squared for all models\n",
    "r2_lr = lr_model.score(X_val_scaled, y_val)\n",
    "r2_rf = rf_model.score(X_val_scaled, y_val)\n",
    "r2_lasso = lasso_model.score(X_val_scaled, y_val)\n",
    "r2_ridge = ridge_model.score(X_val_scaled, y_val)\n",
    "\n",
    "r2_values_all = [r2_lr, r2_rf, r2_lasso, r2_ridge]\n",
    "\n",
    "# Creating a bar plot for RMSE and R-squared\n",
    "fig, ax = plt.subplots(1,2, figsize = (15, 6))\n",
    "\n",
    "ax[0].barh(models_all, rmse_values_all, color = color1)\n",
    "ax[0].set_xlabel('Root Mean Squared Error (RMSE)')\n",
    "ax[0].set_title('Comparison of RSME among Four Model')\n",
    "\n",
    "ax[1].barh(models_all, r2_values_all, color = color2)\n",
    "ax[1].set_xlabel('R-Squared ($R^2$)')\n",
    "ax[1].set_title('Comparison of $R^2$ among Four Models')\n",
    "\n",
    "plt.tight_layout()\n",
    "plt.show()"
   ]
  },
  {
   "cell_type": "markdown",
   "id": "9d7da972-b477-435d-a1a2-b90e434301cc",
   "metadata": {},
   "source": [
    "### Model Evaluation"
   ]
  },
  {
   "cell_type": "markdown",
   "id": "ed29b38b-79c4-441c-8e6c-2385d17c5235",
   "metadata": {},
   "source": [
    "Based on the graphs above, we can infer that the Random Forest model outperforms the other models in both RMSE and R2 values. This makes Random Forest the ideal choice for this instance."
   ]
  },
  {
   "cell_type": "markdown",
   "id": "439dfc08-136d-422c-a43e-6f1de06f45d5",
   "metadata": {},
   "source": [
    "## Conclussion"
   ]
  },
  {
   "cell_type": "markdown",
   "id": "fe28f5fd-d9f2-444d-b158-2c05243127ab",
   "metadata": {},
   "source": [
    "Additional work is required to improve model peformance, suchas Hyperparameter Tunning and Feature Selection Techniques, such as PCA.\n",
    "Additional data transformation might be needed to address outliers."
   ]
  }
 ],
 "metadata": {
  "kernelspec": {
   "display_name": "Python 3 (ipykernel)",
   "language": "python",
   "name": "python3"
  },
  "language_info": {
   "codemirror_mode": {
    "name": "ipython",
    "version": 3
   },
   "file_extension": ".py",
   "mimetype": "text/x-python",
   "name": "python",
   "nbconvert_exporter": "python",
   "pygments_lexer": "ipython3",
   "version": "3.12.4"
  }
 },
 "nbformat": 4,
 "nbformat_minor": 5
}
